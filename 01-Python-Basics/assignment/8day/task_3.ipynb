{
 "cells": [
  {
   "cell_type": "markdown",
   "metadata": {},
   "source": [
    "[문제]\n",
    "\n",
    "'Book' 클래스를 선언하세요. \n",
    "\n",
    "이 클래스는 title (제목)과 author (저자) 두 개의 속성을 갖습니다. \n",
    "\n",
    "__str__ 특수 메소드를 오버라이드하여, 객체를 문자열로 변환할 때 \"제목: [title], 저자: [author]\" 형식의 문자열을 반환하도록 하세요. \n",
    "\n",
    "'Book' 객체를 하나 생성하고, print 함수를 사용하여 해당 객체의 문자열 표현을 출력하세요."
   ]
  },
  {
   "cell_type": "code",
   "execution_count": null,
   "metadata": {},
   "outputs": [
    {
     "name": "stdout",
     "output_type": "stream",
     "text": [
      "제목 어린왕자, 저자 앙투안 드 생텍쥐페리\n"
     ]
    }
   ],
   "source": [
    "# 클래스 선언.\n",
    "class Book():\n",
    "    #초기화\n",
    "    def __init__(self, title, author):\n",
    "        self.title = str(title)\n",
    "        self.author = str(author)\n",
    "        \n",
    "    # 특수 메소드 선언\n",
    "    def __str__(self):\n",
    "        return f\"제목 {self.title}, 저자 {self.author}\"\n",
    "    \n",
    "# 객체 생성 및 출력\n",
    "book1 = Book(\"어린왕자\", \"앙투안 드 생텍쥐페리\")\n",
    "print(book1)"
   ]
  }
 ],
 "metadata": {
  "kernelspec": {
   "display_name": "Python 3",
   "language": "python",
   "name": "python3"
  },
  "language_info": {
   "codemirror_mode": {
    "name": "ipython",
    "version": 3
   },
   "file_extension": ".py",
   "mimetype": "text/x-python",
   "name": "python",
   "nbconvert_exporter": "python",
   "pygments_lexer": "ipython3",
   "version": "3.9.6"
  }
 },
 "nbformat": 4,
 "nbformat_minor": 2
}
