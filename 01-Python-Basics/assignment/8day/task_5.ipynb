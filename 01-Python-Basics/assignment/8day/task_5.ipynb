{
 "cells": [
  {
   "cell_type": "markdown",
   "metadata": {},
   "source": [
    "[문제]\n",
    "\n",
    "'Account' 클래스를 작성하세요. \n",
    "\n",
    "이 클래스는 소유자(owner)와 잔액(balance)을 속성으로 가지며, 잔액은 프라이빗 변수로 선언합니다. \n",
    "\n",
    "'deposit'와 'withdraw' 두 개의 메소드를 통해 잔액을 조작할 수 있도록 하세요. \n",
    "\n",
    "이 때, 잔액은 음수가 될 수 없도록 체크해야 합니다. 'Account' 객체를 생성하고,<br>\n",
    "입금 및 출금 작업을 시뮬레이션한 후, 최종 잔액을 출력하세요."
   ]
  },
  {
   "cell_type": "code",
   "execution_count": 1,
   "metadata": {},
   "outputs": [
    {
     "name": "stdout",
     "output_type": "stream",
     "text": [
      "입금 금액: 500 \n",
      "현재 잔액: 5500\n",
      "잔액 보다 더 큰 금액을 입력하셨거나 잘못된 입력입니다.\n",
      "출금 금액: 500 \n",
      "현재 잔액: 5000\n"
     ]
    }
   ],
   "source": [
    "class Account():\n",
    "    def __init__(self, owner, balance):\n",
    "        self.owner = owner\n",
    "        self.balance = balance\n",
    "\n",
    "    # 입금\n",
    "    def deposit(self, amount):\n",
    "        self.balance += amount\n",
    "        return f\"입금 금액: {amount} \\n현재 잔액: {self.balance}\"\n",
    "\n",
    "    # 출금\n",
    "    def withdraw(self, amount):\n",
    "\n",
    "        # 기본\n",
    "        if amount <= self.balance:\n",
    "            self.balance -= amount\n",
    "            return f\"출금 금액: {amount} \\n현재 잔액: {self.balance}\"\n",
    "        \n",
    "        # 예외\n",
    "        else:\n",
    "            return f\"잔액 보다 더 큰 금액을 입력하셨거나 잘못된 입력입니다.\"\n",
    "        \n",
    "# 객체 생성\n",
    "acc1 = Account(\"이지윤\", 5000)\n",
    "\n",
    "# 출력 및 테스트\n",
    "print(acc1.deposit(500))\n",
    "print(acc1.withdraw(50000))\n",
    "print(acc1.withdraw(500))"
   ]
  }
 ],
 "metadata": {
  "kernelspec": {
   "display_name": "Python 3",
   "language": "python",
   "name": "python3"
  },
  "language_info": {
   "codemirror_mode": {
    "name": "ipython",
    "version": 3
   },
   "file_extension": ".py",
   "mimetype": "text/x-python",
   "name": "python",
   "nbconvert_exporter": "python",
   "pygments_lexer": "ipython3",
   "version": "3.9.6"
  }
 },
 "nbformat": 4,
 "nbformat_minor": 2
}
